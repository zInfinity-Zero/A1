{
 "cells": [
  {
   "cell_type": "markdown",
   "id": "896de796-7bdb-4f8b-aae3-b13b53068f74",
   "metadata": {},
   "source": [
    "# Assignment A1 [35 marks]\n",
    "\n",
    "This is the first assignment for MATH08065 Computing and Numerics.\n",
    "\n",
    "### Academic misconduct\n",
    "\n",
    "Note that this is an **individual assignment**. Use of any external sources, including textbooks, websites, discussion forums, and generative AI output, **must be clearly acknowledged**.\n",
    "\n",
    "- [School of Mathematics academic misconduct information](https://teaching.maths.ed.ac.uk/main/undergraduate/studies/assessment/academic-misconduct)\n",
    "\n",
    "You must clearly indicate any code which is taken from an external source, and must clearly indicate if the code has been modified. For example\n",
    "\n",
    "```\n",
    "### Modified version of code from [author] [url] [access date]\n",
    "...\n",
    "### End of acknowledged code\n",
    "```\n",
    "\n",
    "Marks may be reduced if more than a small proportion of the code is taken from external sources, modified or unmodified.\n",
    "\n",
    "When working on your assignment, collaboration is fine, but collusion is not. Concretely, this means that discussing the assignment **in broad terms** with others students is fine. However, you are **not permitted to share your working** (even partially) with other students -- that includes your code, any detailed description or explanation of code, and any results or analysis you perform. Submissions may be checked for similarity.\n",
    "\n",
    "### Automarking\n",
    "\n",
    "Questions 1.1, 1.2, 2.1, and 3.1 will use gradescope automarking. It is important that\n",
    "\n",
    "- Your submission consists of a single notebook, with file extension `.ipynb`.\n",
    "- The indicated functions are only defined once each in your notebook.\n",
    "- Each indicated function and any supporting code (in particular imports) appears in a *single code cell*. Only code in this cell will be used for testing your function. e.g. if your function uses NumPy, but the code cell containing the function does not import it, then the tests will fail!\n",
    "- The functions have the indicated name, and the indicated arguments with the indicated names. No additional arguments, or default argument values, should be used.\n",
    "\n",
    "You may use NumPy, SciPy, and matplotlib for your assignment. Other libraries may not be available in the autograder.\n",
    "\n",
    "For the complete mark scheme see `mark_scheme.pdf`.\n",
    "\n",
    "### Submission\n",
    "\n",
    "To submit your assignment to Gradescope:\n",
    "\n",
    "1. Make sure you run all the cells in your `A1.ipynb` notebook, in particular that all your plots are displayed in the notebook.\n",
    "2. Make sure you've pushed all your work to GitHub. (Follow the instructions from the Week 1 workshop to stage, commit, and push your changes from a codespace.)\n",
    "3. Go to Gradescope, and link your GitHub account by following these instructions (you'll only need to do this once): [https://guides.gradescope.com/hc/en-us/articles/21587275611533-Linking-and-Unlinking-Accounts](https://guides.gradescope.com/hc/en-us/articles/21587275611533-Linking-and-Unlinking-Accounts)\n",
    "4. Select the assignment \"A1\" on Gradescope, and click \"Submit\".\n",
    "5. Select your `A1` repository.\n",
    "6. Then, select the `main` branch. (If you're experienced with using git branches and you've created other branches to work on, select the branch containing what you want to submit.)\n",
    "\n",
    "Further submission instructions are available through Gradescope support: [https://guides.gradescope.com/hc/en-us/articles/21865616724749-Submitting-a-Code-assignment](https://guides.gradescope.com/hc/en-us/articles/21865616724749-Submitting-a-Code-assignment)"
   ]
  },
  {
   "cell_type": "markdown",
   "id": "cb74be99-b93b-4b45-8e53-8a95052f99d6",
   "metadata": {},
   "source": [
    "## Question 1: Area of a triangle\n",
    "\n",
    "This question uses formulae and other ideas from\n",
    "\n",
    "- [1] 'Miscalculating Area and Angles of a Needle-like Triangle', W. Kahan, https://people.eecs.berkeley.edu/~wkahan/Triangle.pdf [accessed 2025-01-24]\n",
    "\n",
    "Heron's formula is an ancient way of computing the area of a triangle. Given the three side lengths, $a$, $b$, and $c$, for a triangle, the area is given by\n",
    "\n",
    "$$A_\\text{Heron} = \\sqrt{s ( s - a ) ( s - b ) ( s - c )},$$\n",
    "\n",
    "where $s = ( (a + b) + c ) / 2$ is one half of the perimiter.\n",
    "\n",
    "**1.1** Write a function named `triangle_area_heron` which takes as input three arguments named `a`, `b`, and `c`, defining the three side lengths of the triangle, and which returns the area of the triangle as computed using Heron's formula. Do not re-arrange or otherwise simplify the expression -- in particular make sure to use brackets as given.\n",
    "\n",
    "The function must have the form\n",
    "\n",
    "```\n",
    "def triangle_area_heron(a, b, c):\n",
    "    ...\n",
    "    return area\n",
    "```\n",
    "\n",
    "**[2 marks]**"
   ]
  },
  {
   "cell_type": "code",
   "execution_count": null,
   "id": "63cbfb11-c593-4a2b-b144-3a7918107dba",
   "metadata": {},
   "outputs": [],
   "source": [
    "import numpy as np\n",
    "\n",
    "\n",
    "def triangle_area_heron(a, b, c):\n",
    "    # Add code here\n",
    "    return area"
   ]
  },
  {
   "cell_type": "markdown",
   "id": "65306125-55a4-48c1-83c8-bc48a1a631bb",
   "metadata": {},
   "source": [
    "An alternative formula for the area of a triangle is [1, section 2]\n",
    "\n",
    "$$A_\\text{Kahan} = \\frac{1}{4} \\sqrt{(a + (b + c)) (c - (a - b)) (c + (a - b)) (a + (b - c))},$$\n",
    "\n",
    "where here $a$, $b$, and $c$ are the side lengths of the triangle *in decreasing order*, i.e. $a \\ge b \\ge c$.\n",
    "\n",
    "**1.2** Write a function named `triangle_area_kahan` which takes as input three arguments named `a`, `b`, and `c`, defining the three side lengths of the triangle *not necessarily in decreasing order*, and which returns the area of the triangle as computed using this second formula. Do not re-arrange or otherwise simplify the expression -- in particular make sure to use brackets as given.\n",
    "\n",
    "The function must have the form\n",
    "\n",
    "```\n",
    "def triangle_area_kahan(a, b, c):\n",
    "    ...\n",
    "    return area\n",
    "```\n",
    "\n",
    "\n",
    "**[2 marks]**"
   ]
  },
  {
   "cell_type": "code",
   "execution_count": null,
   "id": "205a02aa-bc62-4ca6-bb60-85f1c1950246",
   "metadata": {},
   "outputs": [],
   "source": [
    "import numpy as np\n",
    "\n",
    "\n",
    "def triangle_area_kahan(a, b, c):\n",
    "    # Add code here\n",
    "    return area"
   ]
  },
  {
   "cell_type": "markdown",
   "id": "7dd358e5-f1e0-46c1-97b5-a9cd4c42da14",
   "metadata": {},
   "source": [
    "**1.3** Consider a family of triangles with side lengths\n",
    "\n",
    "$$a = 2 \\varepsilon,$$\n",
    "$$b = c = \\frac{\\sqrt{1 + \\varepsilon^4}}{\\varepsilon},$$\n",
    "\n",
    "where $\\varepsilon$ is some positive number.\n",
    "\n",
    "Consider different values of $\\varepsilon$, and use these to investigate the accuracy of your two functions `triangle_area_heron` and `triangle_area_kahan`. Summarize your results in a discussion of no more than $300$ words.\n",
    "\n",
    "You should be able to find a simple result for the exact area of each triangle, for use in your investigation. Your code should be clear, easy to understand, and commented as necessary. Your code should generate at least one plot. You should choose which output and/or plots your code should generate, and should use the output and/or plots to support your discussion. Plots must be well laid out and clearly labelled.\n",
    "\n",
    "**[7 marks]**"
   ]
  },
  {
   "cell_type": "code",
   "execution_count": null,
   "id": "9e3a10d1-abad-4577-8352-748b65ed5f4d",
   "metadata": {},
   "outputs": [],
   "source": [
    "# Add code here"
   ]
  },
  {
   "cell_type": "markdown",
   "id": "36a30b9f-5a54-4b6c-94d3-49b573da2a4f",
   "metadata": {},
   "source": [
    "## Discussion\n",
    "\n",
    "Add discussion here. Double click on this cell to edit."
   ]
  },
  {
   "cell_type": "markdown",
   "id": "0445ca99-2b3f-41ee-86c4-c826e5104cd4",
   "metadata": {},
   "source": [
    "## Question 2: Numerical linear algebra\n",
    "\n",
    "Consider the following sequence of length $2$ vectors,\n",
    "\n",
    "$$x_0 = \\left( \\begin{array}{c} 1 \\\\ 1 \\end{array} \\right),$$\n",
    "$$x_{n + 1} = A x_n \\quad \\text{for} ~ n \\ge 0,$$\n",
    "\n",
    "with\n",
    "\n",
    "$$A = \\left( \\begin{array}{cc} 0 & 1 \\\\ 1 & 1 \\end{array} \\right).$$\n",
    "\n",
    "**2.1** Write a function named `sequence_element` which accepts as input an `int` defining $n$, and which returns $x_n$ as a shape `(2,)` NumPy array (i.e. a vector) with integer scalar data type.\n",
    "\n",
    "The function must have the form\n",
    "\n",
    "```\n",
    "def sequence_element(n):\n",
    "    ...\n",
    "    return x\n",
    "```\n",
    "\n",
    "**[2 marks]**"
   ]
  },
  {
   "cell_type": "code",
   "execution_count": null,
   "id": "d765000a-4fc9-4e35-9e25-46a7e1aed6d2",
   "metadata": {},
   "outputs": [],
   "source": [
    "import numpy as np\n",
    "\n",
    "\n",
    "def sequence_element(n):\n",
    "    # Add code here\n",
    "    return x"
   ]
  },
  {
   "cell_type": "markdown",
   "id": "0481451b-b097-4e44-9346-b56606f7d1c8",
   "metadata": {},
   "source": [
    "**2.2** Perform numerical calculations to investigate\n",
    "\n",
    "$$e_n = \\frac{\\left\\| A x_n - \\alpha x_n \\right\\|}{\\left\\| x_n \\right\\|},$$\n",
    "\n",
    "for different values of $n$, where $\\alpha$ is the eigenvalue of $A$ with largest magnitude. Here $\\left\\| \\cdot \\right\\|$ denotes the Euclidean $2$-norm. Comment on the results in a discussion of no more than $300$ words.\n",
    "\n",
    "Your code should be clear, easy to understand, and commented as necessary. Your code should generate at least one plot. You should choose which output and/or plots your code should generate, and should use the output and/or plots to support your discussion. Plots must be well laid out and clearly labelled.\n",
    "\n",
    "**[7 marks]**"
   ]
  },
  {
   "cell_type": "code",
   "execution_count": null,
   "id": "d1b8c6ce-b230-4615-ad03-b608581cddc6",
   "metadata": {},
   "outputs": [],
   "source": [
    "# Add code here"
   ]
  },
  {
   "cell_type": "markdown",
   "id": "15c140bc-26ab-444b-8f52-fcdef278c382",
   "metadata": {},
   "source": [
    "## Discussion\n",
    "\n",
    "Add discussion here. Double click on this cell to edit."
   ]
  },
  {
   "cell_type": "markdown",
   "id": "4ddbe849-6ed6-4404-b314-c3cf6d021c74",
   "metadata": {},
   "source": [
    "## Question 3: Numerical integration\n",
    "\n",
    "An $(N + 1)$ point *quadrature rule*, for integration of a function on the interval $x \\in [ -1, 1 ]$, takes the form\n",
    "\n",
    "$$\\int_{-1}^1 f(x) dx \\approx \\sum_{i = 0}^N w_i f( x_i ),$$\n",
    "\n",
    "where the $x_i$ and $w_i$ are, respectively, given quadrature points and quadrature weights. An *interpolatory* quadrature rule is defined by choosing a set of distinct $x_i$, then choosing the $w_i$ such that\n",
    "\n",
    "$$\\int_{-1}^1 p_N (x) dx = \\sum_{i = 0}^N w_i f( x_i ),$$\n",
    "\n",
    "where $p_N ( x )$ is the interpolating polynomial of maximal degree $N$ for which $p_N (x_i) = f (x_i)$ for each quadrature point $x_i$.\n",
    "\n",
    "To find the $w_i$ we can first define a set of $(N + 1)$ *Lagrange interpolating polynomials*, $p_{N,i} (x)$ for each $i \\in \\left\\{ 0, \\ldots, N \\right\\}$. Each of these is defined such that\n",
    "\n",
    "$$p_{N,i} (x_j) = \\delta_{i,j} = \\begin{cases} 1 & \\text{if} ~ i = j \\\\ 0 & \\text{otherwise} \\end{cases}.$$\n",
    "\n",
    "We use this to re-express the interpolating polynomial\n",
    "\n",
    "$$p_N (x) = \\sum_{i = 0}^N p_{N,i} (x) f (x_i).$$\n",
    "\n",
    "To see that this works, note the right-hand-side is a polynomial of maximal degree $N$ (since each term in the summation is), and we can evaluate at each quadrature point to check that it interpolates $f(x)$ as required. Hence\n",
    "\n",
    "$$\\int_{-1}^1 p_N (x) dx = \\sum_{i = 0}^N \\left[ \\int_{-1}^1 p_{N,i} (x) dx \\right] f (x_i) = \\sum_{i = 0}^N w_i f( x_i ),$$\n",
    "\n",
    "and so the quadrature weights are\n",
    "\n",
    "$$w_i = \\int_{-1}^1 p_{N,i} (x) dx.$$\n",
    "\n",
    "**3.1** Write a function `interpolatory_quadrature_weights` which takes in a shape `(N + 1,)` NumPy array with floating point scalar data type defining quadrature points $x_i$, and returns a shape `(N + 1,)` NumPy array containing corresponding values for the interpolatory quadrature rule quadrature weights.\n",
    "\n",
    "After your function definition add code which checks your code correctly constructs the quadrature weights for the mid-point rule, trapezoidal rule, and Simpson's rule.\n",
    "\n",
    "The function must have the form\n",
    "\n",
    "```\n",
    "def interpolatory_quadrature_weights(x):\n",
    "    ...\n",
    "    return w\n",
    "```\n",
    "\n",
    "**[5 marks]**"
   ]
  },
  {
   "cell_type": "code",
   "execution_count": null,
   "id": "377f57aa-994b-4db0-86ab-952d32d1aa4e",
   "metadata": {},
   "outputs": [],
   "source": [
    "import numpy as np\n",
    "\n",
    "\n",
    "def interpolatory_quadrature_weights(x):\n",
    "    # Add code here\n",
    "    return w\n",
    "\n",
    "\n",
    "# Add test code here"
   ]
  },
  {
   "cell_type": "markdown",
   "id": "b52d43c9-2fed-4686-9adf-ff5208da78b9",
   "metadata": {},
   "source": [
    "**3.2** For a given positive integer $N$ consider two sets of quadrature points\n",
    "\n",
    "$$x_{0,i} = -1 + \\frac{2 i}{N},$$\n",
    "\n",
    "and\n",
    "\n",
    "$$x_{1,i} = -\\cos \\left( \\frac{i \\pi}{N} \\right),$$\n",
    "\n",
    "each defined for $i \\in \\left\\{ 0, \\ldots, N \\right\\}$. We can use these to define two different sets of interpolatory quadrature rules.\n",
    "\n",
    "Use these two interpolatory quadrature rules to approximate the integral\n",
    "\n",
    "$$\\int_{-1}^1 f (x) dx,$$\n",
    "\n",
    "with\n",
    "\n",
    "$$f(x) = \\frac{1}{1 + (3 x)^2}.$$\n",
    "\n",
    "Investigate the accuracy of the two different sets of quadrature rules for different values of $N$. Summarize your results in a discussion of no more than $300$ words.\n",
    "\n",
    "Your code should be clear, easy to understand, and commented as necessary. Your code should generate at least one plot. You should choose which output and/or plots your code should generate, and should use the output and/or plots to support your discussion. Plots must be well laid out and clearly labelled.\n",
    "\n",
    "**[10 marks]**"
   ]
  },
  {
   "cell_type": "code",
   "execution_count": null,
   "id": "e1a9acc6-70ef-41ff-b06e-801066f4109f",
   "metadata": {},
   "outputs": [],
   "source": [
    "# Add code here"
   ]
  },
  {
   "cell_type": "markdown",
   "id": "f56ef325-3382-4462-88ff-1e4c2d6328c3",
   "metadata": {},
   "source": [
    "## Discussion\n",
    "\n",
    "Add discussion here. Double click on this cell to edit."
   ]
  }
 ],
 "metadata": {
  "kernelspec": {
   "display_name": "Python 3 (ipykernel)",
   "language": "python",
   "name": "python3"
  },
  "language_info": {
   "codemirror_mode": {
    "name": "ipython",
    "version": 3
   },
   "file_extension": ".py",
   "mimetype": "text/x-python",
   "name": "python",
   "nbconvert_exporter": "python",
   "pygments_lexer": "ipython3",
   "version": "3.12.8"
  }
 },
 "nbformat": 4,
 "nbformat_minor": 5
}
